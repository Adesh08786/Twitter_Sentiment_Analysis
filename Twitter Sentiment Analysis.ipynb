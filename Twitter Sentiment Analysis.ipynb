{
 "cells": [
  {
   "cell_type": "markdown",
   "metadata": {},
   "source": [
    "## Twitter Sentiment Analysis Using Naive Bayes Classifier "
   ]
  },
  {
   "cell_type": "markdown",
   "metadata": {},
   "source": [
    "This project is about building a model that can detect sentiment, so that I can apply this model to tweets on a trending topic and will notify us about the views and perception of the people about it using their tweets."
   ]
  },
  {
   "cell_type": "code",
   "execution_count": 1,
   "metadata": {
    "collapsed": true
   },
   "outputs": [],
   "source": [
    "import tweepy                       #Twitter's API for fetching the tweets\n",
    "from textblob import TextBlob       #Python library for text processing\n",
    "import pandas as pd                 #Python library for data manipulation and analysis"
   ]
  },
  {
   "cell_type": "code",
   "execution_count": 2,
   "metadata": {
    "collapsed": true
   },
   "outputs": [],
   "source": [
    "#For veryfing our identity with twitter\n",
    "\n",
    "consumer_key='bSObJeGcKQ5kd0nbySgefybzF'\n",
    "consumer_secret='xsTKYUtGhEn44UO4c8vyD3SlBdGV8jNa87BqADzkc3iCyHdaJp'\n",
    "\n",
    "access_token ='977388037524021249-yxSZJoDg36K2Ylhn7Jn7di48tvtexpt'\n",
    "access_token_secret ='PbJnDVwOtBH4bIzyQodWXXBX83iASR6GUtekbYNZH9mzp'\n"
   ]
  },
  {
   "cell_type": "code",
   "execution_count": 3,
   "metadata": {
    "collapsed": true
   },
   "outputs": [],
   "source": [
    "#For Authentication\n",
    "auth=tweepy.OAuthHandler(consumer_key,consumer_secret)\n",
    "auth.set_access_token(access_token,access_token_secret)"
   ]
  },
  {
   "cell_type": "code",
   "execution_count": 5,
   "metadata": {},
   "outputs": [],
   "source": [
    "twi_api=tweepy.API(auth)\n",
    "public_tweets=twi_api.search('Congress',count=100)"
   ]
  },
  {
   "cell_type": "code",
   "execution_count": 6,
   "metadata": {
    "collapsed": true
   },
   "outputs": [],
   "source": [
    "tweet_list=[]\n",
    "for tweet in public_tweets:\n",
    "    tweet_list.append(tweet.text)"
   ]
  },
  {
   "cell_type": "code",
   "execution_count": 7,
   "metadata": {},
   "outputs": [
    {
     "data": {
      "text/plain": [
       "100"
      ]
     },
     "execution_count": 7,
     "metadata": {},
     "output_type": "execute_result"
    }
   ],
   "source": [
    "#length of tweet list\n",
    "len(tweet_list)"
   ]
  },
  {
   "cell_type": "code",
   "execution_count": 8,
   "metadata": {
    "collapsed": true
   },
   "outputs": [],
   "source": [
    "sentiment_list=[]\n",
    "for tweet in public_tweets:\n",
    "    analysis=TextBlob(tweet.text)\n",
    "    if analysis.sentiment.polarity>0:\n",
    "        sentiment_list.append(1)\n",
    "    else:\n",
    "        sentiment_list.append(0)\n"
   ]
  },
  {
   "cell_type": "code",
   "execution_count": 9,
   "metadata": {},
   "outputs": [
    {
     "name": "stdout",
     "output_type": "stream",
     "text": [
      "                                                tweet  sentiment\n",
      "0   RT @B52Malmet: I met a woman who has worked in...          1\n",
      "1   RT @zoomfazy: @puriyash41 @Mayavi101 Congress ...          1\n",
      "2   @bax_up @thehill What would be really funny is...          0\n",
      "3   The Congressional Budget Office is looking for...          0\n",
      "4   RT @Kamallochan1982: Zameer Ahmed promises une...          0\n",
      "5   RT @chintan20: Rajeev Tyagi of Congress provok...          1\n",
      "6   RT @marklevinshow: Here’s a thought \\n\\nRather...          1\n",
      "7   RT @BJP4India: In Udupi, the sand mafia has pr...          0\n",
      "8   RT @GeorgeTakei: A gentle reminder that if you...          1\n",
      "9   RT @RWPUSA: The President obstructs justice, a...          0\n",
      "10  RT @FDRLST: The sporting goods store, under fi...          0\n",
      "11  RT @rose_k01: It is Congress which has no resp...          0\n",
      "12  RT @polishprincessh: About time. The last admi...          1\n",
      "13  RT @LouDobbs: #RemoveRosenstein!- House Republ...          0\n",
      "14  RT @ceidotorg: While the president’s initial f...          1\n",
      "15  RT @matwood17: @AmericaNewsroom @BillHemmer @j...          0\n",
      "16  RT @NeetuGarg6: Why “Prem Chandra ji” blaming ...          0\n",
      "17  RT @NathanDWilsonFL: U.S. Army Green Beret Lt....          0\n",
      "18  RT @CathyMyersWI: When school is out for the s...          0\n",
      "19  RT @kwilli1046: Isn't It Interesting How The #...          1\n",
      "20  RT @BJP4India: When Baba Saheb Ambedkar was fi...          0\n",
      "21  RT @Ra_Bies: Congress says it will give 1 cror...          0\n",
      "22  RT @AnnaApp91838450: PATRIOTS PLEASE KEEP RETW...          1\n",
      "23  RT @INCIndia: Congress President @RahulGandhi ...          0\n",
      "24  RT @B52Malmet: I met a woman who has worked in...          1\n",
      "25  RT @sanjeevmanan19: Vote for @INCKarnataka.   ...          0\n",
      "26  RT @RepJoeKennedy: Dismantling critical enviro...          0\n",
      "27  RT @LowerMyBills: No Bump From Trump: Pay Off ...          0\n",
      "28  RT @Kamallochan1982: Zameer Ahmed promises une...          0\n",
      "29  @bainjal @PiyushGoyal was the CA before he bec...          1\n",
      "..                                                ...        ...\n",
      "70  RT @PiyushGoyal: Congress President has challe...          1\n",
      "71  Did the Congress lie about conducting 3 Surgic...          1\n",
      "72  RT @mtaft48: The fact that Nancy Pelosi wants ...          1\n",
      "73  RT @DonnaWR8: ‘What’s most telling about [Rose...          1\n",
      "74  @TimesNow @RShivshankar Rahu,Sonia and their C...          0\n",
      "75  RT @TheAshokSingh: Case booked against Congres...          0\n",
      "76  RT @polishprincessh: About time. The last admi...          1\n",
      "77  @ahal79 @realDonaldTrump lol you must not be w...          1\n",
      "78  RT @JanzforCongress: Hey Devin, we prosecutors...          0\n",
      "79  RT @baratunde: This is the most gangster, thug...          1\n",
      "80  RT @chicagotribune: Column: Why fire one congr...          0\n",
      "81  RT @RichardTBurnett: Memo to Rosenstein: get y...          0\n",
      "82  RT @rajeshpadmar: RSS Defamation Case: \\nBhiwa...          0\n",
      "83  RT @MikeLevinCA: Corrupt Scott Pruitt doesn’t ...          0\n",
      "84  RT @marklevinshow: Here’s a thought \\n\\nRather...          1\n",
      "85  RT @FDRLST: The sporting goods store, under fi...          0\n",
      "86  RT @AnnaApp91838450: PATRIOTS PLEASE KEEP RETW...          1\n",
      "87  RT @marklevinshow: Here’s a thought \\n\\nRather...          1\n",
      "88  RT @Supriya23bh: After Kamalnath-Scindia duo i...          0\n",
      "89  RT @BJP4Odisha: 'Atkana,' 'Latkana' &amp; 'Bha...          0\n",
      "90  Alternative headline: \"Republican-appointed ju...          0\n",
      "91  RT @vinayak_jain: From 2004 to 2011, the avera...          0\n",
      "92  RT @Melissa82225794: @AmericaNewsroom @gailtal...          0\n",
      "93  @DNC @GOP @realDonaldTrump @CivilRights Congre...          0\n",
      "94  RT @isohailfarooqui: गोदी मीडिया पर भड़की प्रि...          0\n",
      "95  RT @sushilkedia: #SayItLikeModi who got 9 stan...          0\n",
      "96  RT @rajeshpadmar: RSS Defamation Case: \\nBhiwa...          0\n",
      "97  RT @BJP4India: The Congress party is unable to...          0\n",
      "98  RT @rachitseth: #SiddaramaiahRocks\\nCongress r...          0\n",
      "99  @ShekharGupta @rajeevgowda Other than getting ...          0\n",
      "\n",
      "[100 rows x 2 columns]\n"
     ]
    }
   ],
   "source": [
    "combined_list = list(zip(tweet_list, sentiment_list))\n",
    "#print(combined_list)\n",
    "\n",
    "cols = ['tweet', 'sentiment']\n",
    "\n",
    "data = pd.DataFrame.from_records(combined_list, columns=cols)\n",
    "\n",
    "print(data)"
   ]
  },
  {
   "cell_type": "code",
   "execution_count": 10,
   "metadata": {
    "collapsed": true
   },
   "outputs": [],
   "source": [
    "X=data['tweet']\n",
    "y=data['sentiment']"
   ]
  },
  {
   "cell_type": "code",
   "execution_count": 11,
   "metadata": {},
   "outputs": [
    {
     "name": "stdout",
     "output_type": "stream",
     "text": [
      "(100,)\n",
      "(100,)\n"
     ]
    }
   ],
   "source": [
    "print(X.shape)\n",
    "print(y.shape)"
   ]
  },
  {
   "cell_type": "code",
   "execution_count": 12,
   "metadata": {},
   "outputs": [
    {
     "name": "stdout",
     "output_type": "stream",
     "text": [
      "Number of positive tweets: 37\n"
     ]
    }
   ],
   "source": [
    "# Finding the number of positive tweets\n",
    "#(data['sentiment']>0).sum()\n",
    "k=0\n",
    "pos_tweets=data['sentiment']>0\n",
    "for i in range(100):\n",
    "    if (pos_tweets.iloc[i]==True):\n",
    "        k=k+1\n",
    "print(\"Number of positive tweets:\",k)"
   ]
  },
  {
   "cell_type": "code",
   "execution_count": 13,
   "metadata": {},
   "outputs": [
    {
     "name": "stderr",
     "output_type": "stream",
     "text": [
      "C:\\Users\\user\\Anaconda3\\lib\\site-packages\\sklearn\\cross_validation.py:44: DeprecationWarning: This module was deprecated in version 0.18 in favor of the model_selection module into which all the refactored classes and functions are moved. Also note that the interface of the new CV iterators are different from that of this module. This module will be removed in 0.20.\n",
      "  \"This module will be removed in 0.20.\", DeprecationWarning)\n"
     ]
    }
   ],
   "source": [
    "from sklearn.cross_validation import train_test_split\n",
    "\n",
    "X_train, X_test, y_train, y_test = train_test_split(X, y, random_state=1, stratify=y)\n"
   ]
  },
  {
   "cell_type": "code",
   "execution_count": 14,
   "metadata": {
    "collapsed": true
   },
   "outputs": [],
   "source": [
    "from sklearn.feature_extraction.text import CountVectorizer\n",
    "\n",
    "vect = CountVectorizer()\n",
    "\n",
    "X_train_fs = vect.fit_transform(X_train)"
   ]
  },
  {
   "cell_type": "code",
   "execution_count": 15,
   "metadata": {},
   "outputs": [],
   "source": [
    "#checking the Vocabulary\n",
    "#vect.get_feature_names()"
   ]
  },
  {
   "cell_type": "code",
   "execution_count": 16,
   "metadata": {},
   "outputs": [
    {
     "data": {
      "text/plain": [
       "704"
      ]
     },
     "execution_count": 16,
     "metadata": {},
     "output_type": "execute_result"
    }
   ],
   "source": [
    "# Vocabulary length\n",
    "len(vect.get_feature_names())"
   ]
  },
  {
   "cell_type": "code",
   "execution_count": 17,
   "metadata": {},
   "outputs": [],
   "source": [
    "from sklearn.naive_bayes import MultinomialNB\n",
    "\n",
    "nb = MultinomialNB().fit(X_train_fs, y_train)"
   ]
  },
  {
   "cell_type": "code",
   "execution_count": 18,
   "metadata": {},
   "outputs": [
    {
     "data": {
      "text/plain": [
       "75"
      ]
     },
     "execution_count": 18,
     "metadata": {},
     "output_type": "execute_result"
    }
   ],
   "source": [
    "X_test_fs = vect.transform(X_test)\n",
    "\n",
    "y_pred = nb.predict(X_test_fs)\n",
    "len(y_train)        # Data is split into 3:1 ratio for training and testing respectively\n"
   ]
  },
  {
   "cell_type": "code",
   "execution_count": 19,
   "metadata": {},
   "outputs": [
    {
     "data": {
      "text/plain": [
       "0.76000000000000001"
      ]
     },
     "execution_count": 19,
     "metadata": {},
     "output_type": "execute_result"
    }
   ],
   "source": [
    "from sklearn import metrics\n",
    "\n",
    "metrics.accuracy_score(y_test, y_pred)\n"
   ]
  },
  {
   "cell_type": "code",
   "execution_count": 20,
   "metadata": {},
   "outputs": [
    {
     "data": {
      "text/plain": [
       "0.71492063492063496"
      ]
     },
     "execution_count": 20,
     "metadata": {},
     "output_type": "execute_result"
    }
   ],
   "source": [
    "metrics.average_precision_score(y_test,y_pred)"
   ]
  },
  {
   "cell_type": "code",
   "execution_count": null,
   "metadata": {
    "collapsed": true
   },
   "outputs": [],
   "source": []
  }
 ],
 "metadata": {
  "kernelspec": {
   "display_name": "Python 3",
   "language": "python",
   "name": "python3"
  },
  "language_info": {
   "codemirror_mode": {
    "name": "ipython",
    "version": 3
   },
   "file_extension": ".py",
   "mimetype": "text/x-python",
   "name": "python",
   "nbconvert_exporter": "python",
   "pygments_lexer": "ipython3",
   "version": "3.6.1"
  }
 },
 "nbformat": 4,
 "nbformat_minor": 2
}
